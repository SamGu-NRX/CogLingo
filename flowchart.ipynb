{
 "cells": [
  {
   "cell_type": "code",
   "execution_count": 2,
   "metadata": {},
   "outputs": [
    {
     "ename": "SyntaxError",
     "evalue": "invalid syntax (3227716993.py, line 1)",
     "output_type": "error",
     "traceback": [
      "\u001b[1;36m  Cell \u001b[1;32mIn[2], line 1\u001b[1;36m\u001b[0m\n\u001b[1;33m    graph TB\u001b[0m\n\u001b[1;37m          ^\u001b[0m\n\u001b[1;31mSyntaxError\u001b[0m\u001b[1;31m:\u001b[0m invalid syntax\n"
     ]
    }
   ],
   "source": [
    "graph TB\n",
    "    subgraph \"Data Preparation\"\n",
    "        A[Collect Datasets] --> B[Fine-tune ASR System]\n",
    "    end\n",
    "\n",
    "    subgraph \"User Interaction\"\n",
    "        C[User Speaks] --> D[Receive Audio Input]\n",
    "    end\n",
    "\n",
    "    subgraph \"ASR Implementation\"\n",
    "        D --> E[Pre-process Audio]\n",
    "        E --> F[Segment Speech]\n",
    "        F --> G[Transcribe Speech]\n",
    "        G --> H[Post-process Transcription]\n",
    "    end\n",
    "\n",
    "    subgraph \"Phoneme Analysis\"\n",
    "        I[Convert Standard Text to Phonemes]\n",
    "        H --> J[Convert User Speech to Phonemes]\n",
    "        J & I --> K[Align Phonemes using DTW]\n",
    "        K --> L[Compare Phoneme Sequences]\n",
    "        L --> M[Identify Mismatches and Low Confidence Phonemes]\n",
    "    end\n",
    "\n",
    "    subgraph \"Scoring and Feedback\"\n",
    "        M --> N[Calculate Pronunciation Score]\n",
    "        N --> O[Generate Visual Feedback]\n",
    "        N --> P[Prepare Improvement Tips]\n",
    "    end\n",
    "\n",
    "    subgraph \"User Experience\"\n",
    "        O & P --> Q[Display Score and Feedback to User]\n",
    "    end\n",
    "\n",
    "    %% Connections between subgraphs\n",
    "    B -.-> G\n",
    "    A -.-> I\n",
    "    C -.-> E\n",
    "    Q -.-> C\n",
    "\n",
    "    %% Styling\n",
    "    classDef primary fill:#f9f,stroke:#333,stroke-width:2px;\n",
    "    classDef secondary fill:#bbf,stroke:#333,stroke-width:2px;\n",
    "    classDef tertiary fill:#bfb,stroke:#333,stroke-width:2px;\n",
    "    class A,B,C,D,Q primary;\n",
    "    class E,F,G,H,I,J,K,L,M secondary;\n",
    "    class N,O,P tertiary;\n",
    "\n",
    "    %% Labels\n",
    "    linkStyle 0,1,2,3,4,5,6,7,8,9,10,11,12,13 stroke-width:2px,fill:none,stroke:black;\n",
    "    linkStyle 14,15,16,17 stroke-width:2px,fill:none,stroke:#666,stroke-dasharray: 5, 5;"
   ]
  },
  {
   "cell_type": "code",
   "execution_count": null,
   "metadata": {},
   "outputs": [],
   "source": []
  }
 ],
 "metadata": {
  "kernelspec": {
   "display_name": "week3",
   "language": "python",
   "name": "python3"
  },
  "language_info": {
   "codemirror_mode": {
    "name": "ipython",
    "version": 3
   },
   "file_extension": ".py",
   "mimetype": "text/x-python",
   "name": "python",
   "nbconvert_exporter": "python",
   "pygments_lexer": "ipython3",
   "version": "3.8.19"
  }
 },
 "nbformat": 4,
 "nbformat_minor": 2
}
